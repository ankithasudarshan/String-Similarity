{
 "cells": [
  {
   "cell_type": "markdown",
   "metadata": {},
   "source": [
    "## Import Libraries"
   ]
  },
  {
   "cell_type": "code",
   "execution_count": 1,
   "metadata": {},
   "outputs": [],
   "source": [
    "import pandas as pd\n",
    "import nltk,string,re,emoji\n",
    "from pandas import DataFrame\n",
    "from tqdm import tqdm\n",
    "import itertools\n",
    "from collections import Counter\n",
    "from tqdm import tqdm\n",
    "import time\n",
    "from fuzzywuzzy import fuzz,process"
   ]
  },
  {
   "cell_type": "markdown",
   "metadata": {},
   "source": [
    "## Read data"
   ]
  },
  {
   "cell_type": "code",
   "execution_count": 2,
   "metadata": {},
   "outputs": [
    {
     "name": "stdout",
     "output_type": "stream",
     "text": [
      "5105\n"
     ]
    },
    {
     "data": {
      "text/html": [
       "<div>\n",
       "<style scoped>\n",
       "    .dataframe tbody tr th:only-of-type {\n",
       "        vertical-align: middle;\n",
       "    }\n",
       "\n",
       "    .dataframe tbody tr th {\n",
       "        vertical-align: top;\n",
       "    }\n",
       "\n",
       "    .dataframe thead th {\n",
       "        text-align: right;\n",
       "    }\n",
       "</style>\n",
       "<table border=\"1\" class=\"dataframe\">\n",
       "  <thead>\n",
       "    <tr style=\"text-align: right;\">\n",
       "      <th></th>\n",
       "      <th>id</th>\n",
       "      <th>tweet_full_text</th>\n",
       "    </tr>\n",
       "  </thead>\n",
       "  <tbody>\n",
       "    <tr>\n",
       "      <th>0</th>\n",
       "      <td>1</td>\n",
       "      <td>Done is better than perfect. â€” Sheryl Sandbe...</td>\n",
       "    </tr>\n",
       "    <tr>\n",
       "      <th>1</th>\n",
       "      <td>2</td>\n",
       "      <td>Shout out to the Great Fire Department and the...</td>\n",
       "    </tr>\n",
       "    <tr>\n",
       "      <th>2</th>\n",
       "      <td>3</td>\n",
       "      <td>There are some AMAZINGLY hilarious Nike Ad mem...</td>\n",
       "    </tr>\n",
       "    <tr>\n",
       "      <th>3</th>\n",
       "      <td>4</td>\n",
       "      <td>#kapernickeffect #swoosh #justdoit @ Lucas Bis...</td>\n",
       "    </tr>\n",
       "    <tr>\n",
       "      <th>4</th>\n",
       "      <td>5</td>\n",
       "      <td>One Hand, One Dream: The Shaquem Griffin Story...</td>\n",
       "    </tr>\n",
       "  </tbody>\n",
       "</table>\n",
       "</div>"
      ],
      "text/plain": [
       "   id                                    tweet_full_text\n",
       "0   1  Done is better than perfect. â€” Sheryl Sandbe...\n",
       "1   2  Shout out to the Great Fire Department and the...\n",
       "2   3  There are some AMAZINGLY hilarious Nike Ad mem...\n",
       "3   4  #kapernickeffect #swoosh #justdoit @ Lucas Bis...\n",
       "4   5  One Hand, One Dream: The Shaquem Griffin Story..."
      ]
     },
     "execution_count": 2,
     "metadata": {},
     "output_type": "execute_result"
    }
   ],
   "source": [
    "data=pd.read_excel(\"input_data.xlsx\").dropna()\n",
    "print(len(data))\n",
    "data.head()"
   ]
  },
  {
   "cell_type": "markdown",
   "metadata": {},
   "source": [
    "## Cleanse data"
   ]
  },
  {
   "cell_type": "code",
   "execution_count": 3,
   "metadata": {},
   "outputs": [],
   "source": [
    "import re\n",
    "def url_remove(text):\n",
    "    t=re.sub(r'https://\\S+','',text)\n",
    "    return t\n",
    "def punc_remove(text):\n",
    "    t=re.sub(r'[^\\w\\s]',' ',text)\n",
    "    return t\n",
    "def emoji_remove(text):\n",
    "    return emoji.get_emoji_regexp().sub(\"\",text).strip()\n",
    "def hashtag_remove(text):\n",
    "    reg=\"#(\\w+)\"\n",
    "    return re.sub(reg,\" \",text)\n",
    "def mentions_remove(text):\n",
    "    reg=\"@(\\w+)\"\n",
    "    return re.sub(reg,\" \",text)\n",
    "\n",
    "def clean_text(text):\n",
    "    t=(emoji_remove(punc_remove(mentions_remove(hashtag_remove(url_remove(re.sub(\"[\\n\\r\\t\\xa0]\",\" \",text).strip()))))))\n",
    "    return \" \".join(t.split())"
   ]
  },
  {
   "cell_type": "code",
   "execution_count": 4,
   "metadata": {},
   "outputs": [
    {
     "data": {
      "text/html": [
       "<div>\n",
       "<style scoped>\n",
       "    .dataframe tbody tr th:only-of-type {\n",
       "        vertical-align: middle;\n",
       "    }\n",
       "\n",
       "    .dataframe tbody tr th {\n",
       "        vertical-align: top;\n",
       "    }\n",
       "\n",
       "    .dataframe thead th {\n",
       "        text-align: right;\n",
       "    }\n",
       "</style>\n",
       "<table border=\"1\" class=\"dataframe\">\n",
       "  <thead>\n",
       "    <tr style=\"text-align: right;\">\n",
       "      <th></th>\n",
       "      <th>id</th>\n",
       "      <th>tweet_full_text</th>\n",
       "      <th>cleaned_tweet</th>\n",
       "    </tr>\n",
       "  </thead>\n",
       "  <tbody>\n",
       "    <tr>\n",
       "      <th>0</th>\n",
       "      <td>1</td>\n",
       "      <td>Done is better than perfect. â€” Sheryl Sandbe...</td>\n",
       "      <td>Done is better than perfect â Sheryl Sandberg</td>\n",
       "    </tr>\n",
       "    <tr>\n",
       "      <th>1</th>\n",
       "      <td>2</td>\n",
       "      <td>Shout out to the Great Fire Department and the...</td>\n",
       "      <td>Shout out to the Great Fire Department and the...</td>\n",
       "    </tr>\n",
       "    <tr>\n",
       "      <th>2</th>\n",
       "      <td>3</td>\n",
       "      <td>There are some AMAZINGLY hilarious Nike Ad mem...</td>\n",
       "      <td>There are some AMAZINGLY hilarious Nike Ad mem...</td>\n",
       "    </tr>\n",
       "    <tr>\n",
       "      <th>3</th>\n",
       "      <td>4</td>\n",
       "      <td>#kapernickeffect #swoosh #justdoit @ Lucas Bis...</td>\n",
       "      <td>Lucas Bishop s Cigar Lounge</td>\n",
       "    </tr>\n",
       "    <tr>\n",
       "      <th>4</th>\n",
       "      <td>5</td>\n",
       "      <td>One Hand, One Dream: The Shaquem Griffin Story...</td>\n",
       "      <td>One Hand One Dream The Shaquem Griffin Story</td>\n",
       "    </tr>\n",
       "  </tbody>\n",
       "</table>\n",
       "</div>"
      ],
      "text/plain": [
       "   id                                    tweet_full_text  \\\n",
       "0   1  Done is better than perfect. â€” Sheryl Sandbe...   \n",
       "1   2  Shout out to the Great Fire Department and the...   \n",
       "2   3  There are some AMAZINGLY hilarious Nike Ad mem...   \n",
       "3   4  #kapernickeffect #swoosh #justdoit @ Lucas Bis...   \n",
       "4   5  One Hand, One Dream: The Shaquem Griffin Story...   \n",
       "\n",
       "                                       cleaned_tweet  \n",
       "0      Done is better than perfect â Sheryl Sandberg  \n",
       "1  Shout out to the Great Fire Department and the...  \n",
       "2  There are some AMAZINGLY hilarious Nike Ad mem...  \n",
       "3                        Lucas Bishop s Cigar Lounge  \n",
       "4       One Hand One Dream The Shaquem Griffin Story  "
      ]
     },
     "execution_count": 4,
     "metadata": {},
     "output_type": "execute_result"
    }
   ],
   "source": [
    "data['cleaned_tweet']=data['tweet_full_text'].apply(lambda x:clean_text(x))\n",
    "data.head()"
   ]
  },
  {
   "cell_type": "markdown",
   "metadata": {},
   "source": [
    "## Remove duplicates at the first level using the predefined function"
   ]
  },
  {
   "cell_type": "code",
   "execution_count": 5,
   "metadata": {},
   "outputs": [
    {
     "name": "stdout",
     "output_type": "stream",
     "text": [
      "4844\n"
     ]
    },
    {
     "data": {
      "text/html": [
       "<div>\n",
       "<style scoped>\n",
       "    .dataframe tbody tr th:only-of-type {\n",
       "        vertical-align: middle;\n",
       "    }\n",
       "\n",
       "    .dataframe tbody tr th {\n",
       "        vertical-align: top;\n",
       "    }\n",
       "\n",
       "    .dataframe thead th {\n",
       "        text-align: right;\n",
       "    }\n",
       "</style>\n",
       "<table border=\"1\" class=\"dataframe\">\n",
       "  <thead>\n",
       "    <tr style=\"text-align: right;\">\n",
       "      <th></th>\n",
       "      <th>id</th>\n",
       "      <th>tweet_full_text</th>\n",
       "      <th>cleaned_tweet</th>\n",
       "    </tr>\n",
       "  </thead>\n",
       "  <tbody>\n",
       "    <tr>\n",
       "      <th>0</th>\n",
       "      <td>1</td>\n",
       "      <td>Done is better than perfect. â€” Sheryl Sandbe...</td>\n",
       "      <td>Done is better than perfect â Sheryl Sandberg</td>\n",
       "    </tr>\n",
       "    <tr>\n",
       "      <th>1</th>\n",
       "      <td>2</td>\n",
       "      <td>Shout out to the Great Fire Department and the...</td>\n",
       "      <td>Shout out to the Great Fire Department and the...</td>\n",
       "    </tr>\n",
       "    <tr>\n",
       "      <th>2</th>\n",
       "      <td>3</td>\n",
       "      <td>There are some AMAZINGLY hilarious Nike Ad mem...</td>\n",
       "      <td>There are some AMAZINGLY hilarious Nike Ad mem...</td>\n",
       "    </tr>\n",
       "    <tr>\n",
       "      <th>3</th>\n",
       "      <td>4</td>\n",
       "      <td>#kapernickeffect #swoosh #justdoit @ Lucas Bis...</td>\n",
       "      <td>Lucas Bishop s Cigar Lounge</td>\n",
       "    </tr>\n",
       "    <tr>\n",
       "      <th>4</th>\n",
       "      <td>5</td>\n",
       "      <td>One Hand, One Dream: The Shaquem Griffin Story...</td>\n",
       "      <td>One Hand One Dream The Shaquem Griffin Story</td>\n",
       "    </tr>\n",
       "  </tbody>\n",
       "</table>\n",
       "</div>"
      ],
      "text/plain": [
       "   id                                    tweet_full_text  \\\n",
       "0   1  Done is better than perfect. â€” Sheryl Sandbe...   \n",
       "1   2  Shout out to the Great Fire Department and the...   \n",
       "2   3  There are some AMAZINGLY hilarious Nike Ad mem...   \n",
       "3   4  #kapernickeffect #swoosh #justdoit @ Lucas Bis...   \n",
       "4   5  One Hand, One Dream: The Shaquem Griffin Story...   \n",
       "\n",
       "                                       cleaned_tweet  \n",
       "0      Done is better than perfect â Sheryl Sandberg  \n",
       "1  Shout out to the Great Fire Department and the...  \n",
       "2  There are some AMAZINGLY hilarious Nike Ad mem...  \n",
       "3                        Lucas Bishop s Cigar Lounge  \n",
       "4       One Hand One Dream The Shaquem Griffin Story  "
      ]
     },
     "execution_count": 5,
     "metadata": {},
     "output_type": "execute_result"
    }
   ],
   "source": [
    "data.drop_duplicates(subset='cleaned_tweet',inplace=True)\n",
    "print(len(data))\n",
    "data.dropna()\n",
    "data.head()"
   ]
  },
  {
   "cell_type": "markdown",
   "metadata": {},
   "source": [
    "## Applying Jaccard similarity"
   ]
  },
  {
   "cell_type": "code",
   "execution_count": 6,
   "metadata": {},
   "outputs": [],
   "source": [
    "def jaccard_similarity(list1, list2):\n",
    "    s1 = set(list1)\n",
    "    s2 = set(list2)\n",
    "    return float(len(s1.intersection(s2)) / len(s1.union(s2)))"
   ]
  },
  {
   "cell_type": "markdown",
   "metadata": {},
   "source": [
    "## Applying string similarity on the first 100 records`"
   ]
  },
  {
   "cell_type": "code",
   "execution_count": 7,
   "metadata": {},
   "outputs": [],
   "source": [
    "cleaned_100=list(data['cleaned_tweet'][:100])\n",
    "res=dict(zip(data['id'],cleaned_100))"
   ]
  },
  {
   "cell_type": "code",
   "execution_count": 9,
   "metadata": {},
   "outputs": [
    {
     "name": "stderr",
     "output_type": "stream",
     "text": [
      "100%|███████████████████████████████████████| 100/100 [00:00<00:00, 555.52it/s]"
     ]
    },
    {
     "name": "stdout",
     "output_type": "stream",
     "text": [
      "Time taken to process similarity is:0.19301080703735352\n",
      " \n",
      "Duplicate pairs which cross the given threshold are 29\n"
     ]
    },
    {
     "name": "stderr",
     "output_type": "stream",
     "text": [
      "\n"
     ]
    }
   ],
   "source": [
    "\n",
    "dup=[]\n",
    "dis=[]\n",
    "\n",
    "start=time.time()\n",
    "for i in tqdm(range(len(cleaned_100))):\n",
    "    \n",
    "    for j in (range(i+1,(len(cleaned_100)))):\n",
    "        if(jaccard_similarity(cleaned_100[i],cleaned_100[j])>=0.90):#set threshold of 0.90 for similarity\n",
    "            dup.append((cleaned_100[i],cleaned_100[j]))#append all duplicates which cross the threshold\n",
    "        else:\n",
    "            dis.append((cleaned_100[i],cleaned_100[j]))#append all distinct records which are below the threshold\n",
    "end=time.time()\n",
    "print(\"Time taken to process similarity is:{}\".format(end-start))\n",
    "\n",
    "t=list(itertools.chain.from_iterable(dis))\n",
    "u=list(itertools.chain.from_iterable(dup))\n",
    "\n",
    "print(\" \")\n",
    "print(\"Duplicate pairs which cross the given threshold are {}\".format(len(set(u))))\n",
    "\n"
   ]
  },
  {
   "cell_type": "markdown",
   "metadata": {},
   "source": [
    "## Fuzzy wuzzy Implementation-A Comparision of the efficiency of time"
   ]
  },
  {
   "cell_type": "code",
   "execution_count": 8,
   "metadata": {},
   "outputs": [
    {
     "name": "stderr",
     "output_type": "stream",
     "text": [
      "100%|███████████████████████████████████████| 100/100 [00:00<00:00, 370.35it/s]"
     ]
    },
    {
     "name": "stdout",
     "output_type": "stream",
     "text": [
      "Time taken to process similarity is:0.28601646423339844\n"
     ]
    },
    {
     "name": "stderr",
     "output_type": "stream",
     "text": [
      "\n"
     ]
    }
   ],
   "source": [
    "#FUZZYWUZZY\n",
    "\n",
    "dup=[]\n",
    "dis=[]\n",
    "import time\n",
    "start=time.time()\n",
    "for i in tqdm(range(len(cleaned_100))):\n",
    "    \n",
    "    for j in (range(i+1,(len(cleaned_100)))):\n",
    "        if(fuzz.ratio(cleaned_100[i],cleaned_100[j])>=0.90):\n",
    "            dup.append((cleaned_100[i],cleaned_100[j]))\n",
    "        else:\n",
    "            dis.append((cleaned_100[i],cleaned_100[j]))\n",
    "end=time.time()\n",
    "print(\"Time taken to process similarity is:{}\".format(end-start))\n",
    "\n",
    "t=list(itertools.chain.from_iterable(dis))\n",
    "u=list(itertools.chain.from_iterable(dup))\n",
    "\n",
    "\n"
   ]
  },
  {
   "cell_type": "code",
   "execution_count": 10,
   "metadata": {},
   "outputs": [],
   "source": [
    "#Filter the duplicate records based on their length so as to retain the longer records\n",
    "long=[]\n",
    "short=[]\n",
    "for i in list(set(dup)): \n",
    "    if(len(i[0])>len(i[1])):\n",
    "        long.append(i[0])\n",
    "        short.append(i[1])\n",
    "    elif(len(i[1])>len(i[0])):\n",
    "        long.append(i[1])\n",
    "        short.append(i[0])\n",
    "    else:\n",
    "        continue"
   ]
  },
  {
   "cell_type": "code",
   "execution_count": 11,
   "metadata": {},
   "outputs": [
    {
     "name": "stderr",
     "output_type": "stream",
     "text": [
      "100%|█████████████████████████████████████| 100/100 [00:00<00:00, 49997.66it/s]"
     ]
    },
    {
     "name": "stdout",
     "output_type": "stream",
     "text": [
      "Records present after removing duplicates using string similarity are 84\n"
     ]
    },
    {
     "name": "stderr",
     "output_type": "stream",
     "text": [
      "\n"
     ]
    }
   ],
   "source": [
    "#Remove the shorter length records from the original dataset,retaining the records of bigger length to prevent data loss\n",
    "\n",
    "d2 = dict(res)\n",
    "for k,v in tqdm(list(res.items())):\n",
    "    if(v in list(short)):\n",
    "        del d2[k]\n",
    "\n",
    "        \n",
    "print(\"Records present after removing duplicates using string similarity are {}\".format(len(d2)))\n"
   ]
  },
  {
   "cell_type": "markdown",
   "metadata": {},
   "source": [
    "## Output data to excel"
   ]
  },
  {
   "cell_type": "code",
   "execution_count": 11,
   "metadata": {},
   "outputs": [],
   "source": [
    "df=pd.DataFrame(data=d2,index=['Text_with_ID'])\n",
    "df=(df.T)\n",
    "\n",
    "df.to_excel('output_id.xlsx')"
   ]
  },
  {
   "cell_type": "code",
   "execution_count": null,
   "metadata": {},
   "outputs": [],
   "source": []
  }
 ],
 "metadata": {
  "kernelspec": {
   "display_name": "Python 3",
   "language": "python",
   "name": "python3"
  },
  "language_info": {
   "codemirror_mode": {
    "name": "ipython",
    "version": 3
   },
   "file_extension": ".py",
   "mimetype": "text/x-python",
   "name": "python",
   "nbconvert_exporter": "python",
   "pygments_lexer": "ipython3",
   "version": "3.7.3"
  }
 },
 "nbformat": 4,
 "nbformat_minor": 2
}
